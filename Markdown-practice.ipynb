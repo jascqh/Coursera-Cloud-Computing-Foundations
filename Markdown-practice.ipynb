{
 "cells": [
  {
   "cell_type": "markdown",
   "id": "straight-mailman",
   "metadata": {},
   "source": [
    "# This is the header"
   ]
  },
  {
   "cell_type": "code",
   "execution_count": 1,
   "id": "corresponding-assets",
   "metadata": {},
   "outputs": [
    {
     "name": "stdout",
     "output_type": "stream",
     "text": [
      "hello world\n"
     ]
    }
   ],
   "source": [
    "print(\"hello world\")"
   ]
  },
  {
   "cell_type": "markdown",
   "id": "announced-reunion",
   "metadata": {},
   "source": [
    "* practice markdown\n",
    "* added header\n",
    "* added image"
   ]
  },
  {
   "cell_type": "markdown",
   "id": "addressed-shock",
   "metadata": {},
   "source": [
    "![This is an image](https://myoctocat.com/assets/images/base-octocat.svg)"
   ]
  }
 ],
 "metadata": {
  "kernelspec": {
   "display_name": "Python 3",
   "language": "python",
   "name": "python3"
  },
  "language_info": {
   "codemirror_mode": {
    "name": "ipython",
    "version": 3
   },
   "file_extension": ".py",
   "mimetype": "text/x-python",
   "name": "python",
   "nbconvert_exporter": "python",
   "pygments_lexer": "ipython3",
   "version": "3.7.3"
  }
 },
 "nbformat": 4,
 "nbformat_minor": 5
}
