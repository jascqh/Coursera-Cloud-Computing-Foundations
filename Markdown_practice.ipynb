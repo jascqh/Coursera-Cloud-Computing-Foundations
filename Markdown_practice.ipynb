{
  "cells": [
    {
      "cell_type": "markdown",
      "metadata": {
        "id": "view-in-github",
        "colab_type": "text"
      },
      "source": [
        "<a href=\"https://colab.research.google.com/github/jascqh/Coursera-Cloud-Computing-Foundations/blob/main/Markdown_practice.ipynb\" target=\"_parent\"><img src=\"https://colab.research.google.com/assets/colab-badge.svg\" alt=\"Open In Colab\"/></a>"
      ]
    },
    {
      "cell_type": "markdown",
      "id": "straight-mailman",
      "metadata": {
        "id": "straight-mailman"
      },
      "source": [
        "# This is the header"
      ]
    },
    {
      "cell_type": "code",
      "execution_count": null,
      "id": "corresponding-assets",
      "metadata": {
        "id": "corresponding-assets",
        "outputId": "96239c8a-7881-46dc-d499-da10571659aa"
      },
      "outputs": [
        {
          "name": "stdout",
          "output_type": "stream",
          "text": [
            "hello world\n"
          ]
        }
      ],
      "source": [
        "print(\"hello world\")"
      ]
    },
    {
      "cell_type": "markdown",
      "id": "announced-reunion",
      "metadata": {
        "id": "announced-reunion"
      },
      "source": [
        "* practice markdown\n",
        "* added header\n",
        "* added image"
      ]
    },
    {
      "cell_type": "markdown",
      "id": "addressed-shock",
      "metadata": {
        "id": "addressed-shock"
      },
      "source": [
        "![This is an image](https://myoctocat.com/assets/images/base-octocat.svg)"
      ]
    }
  ],
  "metadata": {
    "kernelspec": {
      "display_name": "Python 3",
      "language": "python",
      "name": "python3"
    },
    "language_info": {
      "codemirror_mode": {
        "name": "ipython",
        "version": 3
      },
      "file_extension": ".py",
      "mimetype": "text/x-python",
      "name": "python",
      "nbconvert_exporter": "python",
      "pygments_lexer": "ipython3",
      "version": "3.7.3"
    },
    "colab": {
      "name": "Markdown-practice.ipynb",
      "provenance": [],
      "include_colab_link": true
    }
  },
  "nbformat": 4,
  "nbformat_minor": 5
}